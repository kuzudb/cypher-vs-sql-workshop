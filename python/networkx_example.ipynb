{
 "cells": [
  {
   "cell_type": "markdown",
   "metadata": {},
   "source": [
    "# Graph algorithms with Kùzu and NetworkX\n",
    "\n",
    "In this notebook, we will cover how to run a graph algorithm to perform a meaningful analysis of graph data.\n",
    "We will continue with the existing graph of a financial network. First, connect to the existing database.\n",
    "\n",
    "> **Note**: Kùzu will soon support a native graph algorithms package, enabling you to run graph algorithms\n",
    "> directly on the Kùzu graph via its Cypher interface. However, few libraries have the extensive set of\n",
    "> graph algorithms that NetworkX does, so NetworkX will always be a great tool to run a whole suite of graph\n",
    "> algorithms on top of your Kùzu graphs.\n",
    "\n",
    "This notebook will show an example of how you can run the\n",
    "[Betweenness Centrality](https://networkx.org/documentation/stable/reference/algorithms/generated/networkx.algorithms.centrality.betweenness_centrality.html) algorithm from NetworkX on the financial network graph."
   ]
  },
  {
   "cell_type": "code",
   "execution_count": 1,
   "metadata": {},
   "outputs": [],
   "source": [
    "# !pip install kuzu networkx pandas"
   ]
  },
  {
   "cell_type": "code",
   "execution_count": 2,
   "metadata": {},
   "outputs": [
    {
     "data": {
      "text/plain": [
       "'0.7.0'"
      ]
     },
     "execution_count": 2,
     "metadata": {},
     "output_type": "execute_result"
    }
   ],
   "source": [
    "import kuzu\n",
    "import pandas as pd\n",
    "import networkx as nx\n",
    "\n",
    "db = kuzu.Database(\"../ex_db_kuzu\")\n",
    "conn = kuzu.Connection(db)\n",
    "kuzu.__version__"
   ]
  },
  {
   "cell_type": "code",
   "execution_count": 3,
   "metadata": {},
   "outputs": [],
   "source": [
    "res = conn.execute(\n",
    "    \"\"\"\n",
    "    MATCH (a1:Account)-[t:Transfer]->(a2:Account)\n",
    "    RETURN *\n",
    "    \"\"\"\n",
    ")\n",
    "G = res.get_as_networkx(directed=False)"
   ]
  },
  {
   "cell_type": "code",
   "execution_count": 4,
   "metadata": {},
   "outputs": [],
   "source": [
    "bc = nx.betweenness_centrality(G, normalized=True)"
   ]
  },
  {
   "cell_type": "code",
   "execution_count": 5,
   "metadata": {},
   "outputs": [
    {
     "data": {
      "text/html": [
       "<div>\n",
       "<style scoped>\n",
       "    .dataframe tbody tr th:only-of-type {\n",
       "        vertical-align: middle;\n",
       "    }\n",
       "\n",
       "    .dataframe tbody tr th {\n",
       "        vertical-align: top;\n",
       "    }\n",
       "\n",
       "    .dataframe thead th {\n",
       "        text-align: right;\n",
       "    }\n",
       "</style>\n",
       "<table border=\"1\" class=\"dataframe\">\n",
       "  <thead>\n",
       "    <tr style=\"text-align: right;\">\n",
       "      <th></th>\n",
       "      <th>id</th>\n",
       "      <th>betweenness_centrality</th>\n",
       "    </tr>\n",
       "  </thead>\n",
       "  <tbody>\n",
       "    <tr>\n",
       "      <th>0</th>\n",
       "      <td>1</td>\n",
       "      <td>0.029412</td>\n",
       "    </tr>\n",
       "    <tr>\n",
       "      <th>1</th>\n",
       "      <td>5</td>\n",
       "      <td>0.062092</td>\n",
       "    </tr>\n",
       "    <tr>\n",
       "      <th>2</th>\n",
       "      <td>3</td>\n",
       "      <td>0.153595</td>\n",
       "    </tr>\n",
       "    <tr>\n",
       "      <th>3</th>\n",
       "      <td>2</td>\n",
       "      <td>0.000000</td>\n",
       "    </tr>\n",
       "    <tr>\n",
       "      <th>4</th>\n",
       "      <td>9</td>\n",
       "      <td>0.091503</td>\n",
       "    </tr>\n",
       "  </tbody>\n",
       "</table>\n",
       "</div>"
      ],
      "text/plain": [
       "  id  betweenness_centrality\n",
       "0  1                0.029412\n",
       "1  5                0.062092\n",
       "2  3                0.153595\n",
       "3  2                0.000000\n",
       "4  9                0.091503"
      ]
     },
     "execution_count": 5,
     "metadata": {},
     "output_type": "execute_result"
    }
   ],
   "source": [
    "df = pd.DataFrame.from_dict(bc, orient=\"index\", columns=[\"betweenness_centrality\"])\n",
    "account_df = df[df.index.str.contains(\"Account\")]\n",
    "account_df.index = account_df.index.str.replace(\"Account_\", \"\")\n",
    "account_df = account_df.reset_index(names=[\"id\"])\n",
    "account_df.head()"
   ]
  },
  {
   "cell_type": "code",
   "execution_count": 6,
   "metadata": {},
   "outputs": [],
   "source": [
    "try:\n",
    "  # Alter original node table schemas to add betweenness_centrality\n",
    "  conn.execute(\"ALTER TABLE Account ADD betweenness_centrality DOUBLE DEFAULT 0.0;\")\n",
    "except RuntimeError:\n",
    "  # If the column already exists, do nothing\n",
    "  pass"
   ]
  },
  {
   "cell_type": "code",
   "execution_count": 7,
   "metadata": {},
   "outputs": [
    {
     "data": {
      "text/html": [
       "<div>\n",
       "<style scoped>\n",
       "    .dataframe tbody tr th:only-of-type {\n",
       "        vertical-align: middle;\n",
       "    }\n",
       "\n",
       "    .dataframe tbody tr th {\n",
       "        vertical-align: top;\n",
       "    }\n",
       "\n",
       "    .dataframe thead th {\n",
       "        text-align: right;\n",
       "    }\n",
       "</style>\n",
       "<table border=\"1\" class=\"dataframe\">\n",
       "  <thead>\n",
       "    <tr style=\"text-align: right;\">\n",
       "      <th></th>\n",
       "      <th>account_id</th>\n",
       "      <th>balance</th>\n",
       "      <th>betweenness_centrality</th>\n",
       "    </tr>\n",
       "  </thead>\n",
       "  <tbody>\n",
       "    <tr>\n",
       "      <th>0</th>\n",
       "      <td>069392555</td>\n",
       "      <td>5392.0</td>\n",
       "      <td>0.450980</td>\n",
       "    </tr>\n",
       "    <tr>\n",
       "      <th>1</th>\n",
       "      <td>082388575</td>\n",
       "      <td>6841.0</td>\n",
       "      <td>0.235294</td>\n",
       "    </tr>\n",
       "    <tr>\n",
       "      <th>2</th>\n",
       "      <td>040162526</td>\n",
       "      <td>7115.0</td>\n",
       "      <td>0.202614</td>\n",
       "    </tr>\n",
       "    <tr>\n",
       "      <th>3</th>\n",
       "      <td>067853119</td>\n",
       "      <td>5251.0</td>\n",
       "      <td>0.176471</td>\n",
       "    </tr>\n",
       "    <tr>\n",
       "      <th>4</th>\n",
       "      <td>080785523</td>\n",
       "      <td>8044.0</td>\n",
       "      <td>0.153595</td>\n",
       "    </tr>\n",
       "  </tbody>\n",
       "</table>\n",
       "</div>"
      ],
      "text/plain": [
       "  account_id  balance  betweenness_centrality\n",
       "0  069392555   5392.0                0.450980\n",
       "1  082388575   6841.0                0.235294\n",
       "2  040162526   7115.0                0.202614\n",
       "3  067853119   5251.0                0.176471\n",
       "4  080785523   8044.0                0.153595"
      ]
     },
     "execution_count": 7,
     "metadata": {},
     "output_type": "execute_result"
    }
   ],
   "source": [
    "# Copy betweenness_centrality values to Account nodes\n",
    "x = conn.execute(\n",
    "  \"\"\"\n",
    "  LOAD FROM account_df\n",
    "  WITH CAST(id AS INT64) AS id, betweenness_centrality\n",
    "  MERGE (a:Account {id: id})\n",
    "  ON MATCH SET a.betweenness_centrality = betweenness_centrality\n",
    "  RETURN\n",
    "      a.account_id AS account_id,\n",
    "      a.balance AS balance,\n",
    "      a.betweenness_centrality AS betweenness_centrality\n",
    "  ORDER BY betweenness_centrality DESC\n",
    "  \"\"\"\n",
    ")\n",
    "x.get_as_df().head()\n"
   ]
  },
  {
   "cell_type": "markdown",
   "metadata": {},
   "source": [
    "## Display persons with highest betweenness centrality"
   ]
  },
  {
   "cell_type": "code",
   "execution_count": 8,
   "metadata": {},
   "outputs": [
    {
     "data": {
      "text/html": [
       "<div>\n",
       "<style scoped>\n",
       "    .dataframe tbody tr th:only-of-type {\n",
       "        vertical-align: middle;\n",
       "    }\n",
       "\n",
       "    .dataframe tbody tr th {\n",
       "        vertical-align: top;\n",
       "    }\n",
       "\n",
       "    .dataframe thead th {\n",
       "        text-align: right;\n",
       "    }\n",
       "</style>\n",
       "<table border=\"1\" class=\"dataframe\">\n",
       "  <thead>\n",
       "    <tr style=\"text-align: right;\">\n",
       "      <th></th>\n",
       "      <th>person</th>\n",
       "      <th>bc</th>\n",
       "    </tr>\n",
       "  </thead>\n",
       "  <tbody>\n",
       "    <tr>\n",
       "      <th>0</th>\n",
       "      <td>Amanda</td>\n",
       "      <td>0.450980</td>\n",
       "    </tr>\n",
       "    <tr>\n",
       "      <th>1</th>\n",
       "      <td>Edward</td>\n",
       "      <td>0.235294</td>\n",
       "    </tr>\n",
       "    <tr>\n",
       "      <th>2</th>\n",
       "      <td>Jon</td>\n",
       "      <td>0.202614</td>\n",
       "    </tr>\n",
       "    <tr>\n",
       "      <th>3</th>\n",
       "      <td>Michael</td>\n",
       "      <td>0.176471</td>\n",
       "    </tr>\n",
       "    <tr>\n",
       "      <th>4</th>\n",
       "      <td>Carol</td>\n",
       "      <td>0.153595</td>\n",
       "    </tr>\n",
       "  </tbody>\n",
       "</table>\n",
       "</div>"
      ],
      "text/plain": [
       "    person        bc\n",
       "0   Amanda  0.450980\n",
       "1   Edward  0.235294\n",
       "2      Jon  0.202614\n",
       "3  Michael  0.176471\n",
       "4    Carol  0.153595"
      ]
     },
     "execution_count": 8,
     "metadata": {},
     "output_type": "execute_result"
    }
   ],
   "source": [
    "res = conn.execute(\n",
    "    \"\"\"\n",
    "    MATCH (p:Person)-[:Owns]-(a:Account)\n",
    "    RETURN p.name AS person, a.betweenness_centrality AS bc\n",
    "    ORDER BY bc DESC LIMIT 5;\n",
    "    \"\"\")\n",
    "res.get_as_df()"
   ]
  },
  {
   "cell_type": "markdown",
   "metadata": {},
   "source": [
    "That's it! We ran the Betweenness Centrality algorithm on the financial network graph and inserted\n",
    "the values for each account node back into Kùzu.\n",
    "\n",
    "You can now continue to query the graph and access the\n",
    "`betweenness_centrality` property on the account nodes to study the results.\n"
   ]
  }
 ],
 "metadata": {
  "kernelspec": {
   "display_name": ".venv",
   "language": "python",
   "name": "python3"
  },
  "language_info": {
   "codemirror_mode": {
    "name": "ipython",
    "version": 3
   },
   "file_extension": ".py",
   "mimetype": "text/x-python",
   "name": "python",
   "nbconvert_exporter": "python",
   "pygments_lexer": "ipython3",
   "version": "3.12.5"
  }
 },
 "nbformat": 4,
 "nbformat_minor": 2
}
